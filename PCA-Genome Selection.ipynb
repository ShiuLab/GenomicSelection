{
 "cells": [
  {
   "cell_type": "code",
   "execution_count": 1,
   "metadata": {
    "collapsed": false
   },
   "outputs": [],
   "source": [
    "### Import modules for PCA and drawing figures\n",
    "\n",
    "import numpy as np\n",
    "\n",
    "import scipy.linalg\n",
    "import pandas as pd\n",
    "import sklearn\n",
    "import sklearn.decomposition as dec\n",
    "import sklearn.datasets as ds\n",
    "\n",
    "import matplotlib.pyplot as plt\n",
    "%matplotlib inline"
   ]
  },
  {
   "cell_type": "code",
   "execution_count": 2,
   "metadata": {
    "collapsed": false,
    "scrolled": true
   },
   "outputs": [
    {
     "data": {
      "text/plain": [
       "Entry           0\n",
       "S1_685089       4\n",
       "S1_2121019      4\n",
       "S1_2663630      4\n",
       "S1_4126643      4\n",
       "S1_4949941      4\n",
       "S1_6816075      4\n",
       "S1_7570553      4\n",
       "S1_8948707      4\n",
       "S1_10126572     4\n",
       "S1_11497147     4\n",
       "S1_12596401     4\n",
       "S1_14146784     4\n",
       "S1_15230086     4\n",
       "S1_15649603     4\n",
       "S1_17985174     4\n",
       "S1_19102222     4\n",
       "S1_19388105     4\n",
       "S1_20575218     4\n",
       "S1_22036345     4\n",
       "S1_22899121     4\n",
       "S1_24044487     4\n",
       "S1_26094755     4\n",
       "S1_27337141     4\n",
       "S1_28090493     4\n",
       "S1_29132740     4\n",
       "S1_30359323     4\n",
       "S1_32233797     4\n",
       "S1_33300078     4\n",
       "S1_33901894     4\n",
       "               ..\n",
       "S11_20408169    4\n",
       "S11_22445343    4\n",
       "S11_23801539    4\n",
       "S11_24336494    4\n",
       "S11_25512741    4\n",
       "S11_27359519    4\n",
       "S11_28443472    4\n",
       "S12_1061666     4\n",
       "S12_2309353     4\n",
       "S12_3098413     4\n",
       "S12_3663811     4\n",
       "S12_4935878     4\n",
       "S12_7022815     4\n",
       "S12_8237086     4\n",
       "S12_9099557     4\n",
       "S12_10740654    4\n",
       "S12_11168036    4\n",
       "S12_13052192    4\n",
       "S12_14157206    4\n",
       "S12_15414608    4\n",
       "S12_16544907    4\n",
       "S12_17601614    4\n",
       "S12_18083967    4\n",
       "S12_20016130    4\n",
       "S12_20870077    4\n",
       "S12_22300794    4\n",
       "S12_23461907    4\n",
       "S12_24231159    4\n",
       "S12_25472227    4\n",
       "S12_26515203    4\n",
       "dtype: int64"
      ]
     },
     "execution_count": 2,
     "metadata": {},
     "output_type": "execute_result"
    }
   ],
   "source": [
    "### Check input data for blanks\n",
    "df = pd.read_csv('genotype_sub_1200Kb_1.csv')\n",
    "df.apply(lambda x: sum(x.isnull()),axis=0)"
   ]
  },
  {
   "cell_type": "code",
   "execution_count": 3,
   "metadata": {
    "collapsed": false,
    "scrolled": true
   },
   "outputs": [
    {
     "data": {
      "text/plain": [
       "Entry           0\n",
       "S1_685089       0\n",
       "S1_2121019      0\n",
       "S1_2663630      0\n",
       "S1_4126643      0\n",
       "S1_4949941      0\n",
       "S1_6816075      0\n",
       "S1_7570553      0\n",
       "S1_8948707      0\n",
       "S1_10126572     0\n",
       "S1_11497147     0\n",
       "S1_12596401     0\n",
       "S1_14146784     0\n",
       "S1_15230086     0\n",
       "S1_15649603     0\n",
       "S1_17985174     0\n",
       "S1_19102222     0\n",
       "S1_19388105     0\n",
       "S1_20575218     0\n",
       "S1_22036345     0\n",
       "S1_22899121     0\n",
       "S1_24044487     0\n",
       "S1_26094755     0\n",
       "S1_27337141     0\n",
       "S1_28090493     0\n",
       "S1_29132740     0\n",
       "S1_30359323     0\n",
       "S1_32233797     0\n",
       "S1_33300078     0\n",
       "S1_33901894     0\n",
       "               ..\n",
       "S11_20408169    0\n",
       "S11_22445343    0\n",
       "S11_23801539    0\n",
       "S11_24336494    0\n",
       "S11_25512741    0\n",
       "S11_27359519    0\n",
       "S11_28443472    0\n",
       "S12_1061666     0\n",
       "S12_2309353     0\n",
       "S12_3098413     0\n",
       "S12_3663811     0\n",
       "S12_4935878     0\n",
       "S12_7022815     0\n",
       "S12_8237086     0\n",
       "S12_9099557     0\n",
       "S12_10740654    0\n",
       "S12_11168036    0\n",
       "S12_13052192    0\n",
       "S12_14157206    0\n",
       "S12_15414608    0\n",
       "S12_16544907    0\n",
       "S12_17601614    0\n",
       "S12_18083967    0\n",
       "S12_20016130    0\n",
       "S12_20870077    0\n",
       "S12_22300794    0\n",
       "S12_23461907    0\n",
       "S12_24231159    0\n",
       "S12_25472227    0\n",
       "S12_26515203    0\n",
       "dtype: int64"
      ]
     },
     "execution_count": 3,
     "metadata": {},
     "output_type": "execute_result"
    }
   ],
   "source": [
    "### Clean up input data\n",
    "headerlist=list(df.columns.values)\n",
    "headerlist.pop(0)\n",
    "for i in headerlist:\n",
    "    df[i].fillna(df[i].mean(), inplace=True)\n",
    "df.apply(lambda x: sum(x.isnull()),axis=0)"
   ]
  },
  {
   "cell_type": "code",
   "execution_count": 4,
   "metadata": {
    "collapsed": false
   },
   "outputs": [
    {
     "data": {
      "text/plain": [
       "<matplotlib.collections.PathCollection at 0x8bfab50>"
      ]
     },
     "execution_count": 4,
     "metadata": {},
     "output_type": "execute_result"
    },
    {
     "name": "stderr",
     "output_type": "stream",
     "text": [
      "C:\\Users\\Laura\\Miniconda\\envs\\cse801\\lib\\site-packages\\matplotlib\\collections.py:590: FutureWarning: elementwise comparison failed; returning scalar instead, but in the future will perform elementwise comparison\n",
      "  if self._edgecolors == str('face'):\n"
     ]
    },
    {
     "data": {
      "image/png": "[encoded data removed]",
      "text/plain": [
       "<matplotlib.figure.Figure at 0x386bed0>"
      ]
     },
     "metadata": {},
     "output_type": "display_data"
    }
   ],
   "source": [
    "### Transform data using PCA.  Plot first two components to verify\n",
    "X=df.drop('Entry',1)\n",
    "norm_bis = dec.PCA().fit_transform(X)\n",
    "plt.figure(1)\n",
    "plt.scatter(norm_bis[:,0], norm_bis[:,1])"
   ]
  },
  {
   "cell_type": "code",
   "execution_count": 5,
   "metadata": {
    "collapsed": false,
    "scrolled": false
   },
   "outputs": [],
   "source": [
    "### Generate eigenvectors and eigenvalues for data set.\n",
    "Y=X.as_matrix()\n",
    "mean = Y.mean(axis=0)\n",
    "\n",
    "Y_cent=np.zeros((Y.shape[0], Y.shape[1]))\n",
    "\n",
    "for k in range(Y.shape[0]):\n",
    "    Y_cent[k]=Y[k]-mean\n",
    "\n",
    "Cov =np.dot(np.transpose(Y_cent),Y_cent)\n",
    "\n",
    "eig_values,eig_vectors  = scipy.linalg.eig(Cov)\n",
    "\n",
    "\n"
   ]
  },
  {
   "cell_type": "code",
   "execution_count": 6,
   "metadata": {
    "collapsed": false
   },
   "outputs": [
    {
     "name": "stderr",
     "output_type": "stream",
     "text": [
      "C:\\Users\\Laura\\Miniconda\\envs\\cse801\\lib\\site-packages\\matplotlib\\transforms.py:839: ComplexWarning: Casting complex values to real discards the imaginary part\n",
      "  points = np.array(args, dtype=np.float_).reshape(2, 2)\n"
     ]
    },
    {
     "data": {
      "text/plain": [
       "(0, 316)"
      ]
     },
     "execution_count": 6,
     "metadata": {},
     "output_type": "execute_result"
    },
    {
     "data": {
      "image/png": "[encoded data removed]",
      "text/plain": [
       "<matplotlib.figure.Figure at 0x8f644b0>"
      ]
     },
     "metadata": {},
     "output_type": "display_data"
    }
   ],
   "source": [
    "### Calculate relative weights for each variable\n",
    "weightedlist=list()\n",
    "for i in range(len(eig_vectors[:,0])):\n",
    "    weight=0\n",
    "    for j in range(len(eig_vectors[0,:])):\n",
    "        weight=weight+abs(eig_vectors[i,j])*eig_values[j]\n",
    "    weightedlist.append(weight)\n",
    "plt.figure(2,figsize=(20,10))\n",
    "xs=[x for x in range(len(eig_values))]\n",
    "plt.title(\"Relative Weight of Each SNP\",size=40)\n",
    "plt.bar(xs,weightedlist,width=1)\n",
    "plt.rc('xtick',labelsize=15)\n",
    "plt.rc('ytick',labelsize=15)\n",
    "plt.ylabel('Relative Weight',size=30)\n",
    "plt.xlabel('SNP',size=30) \n",
    "plt.xlim([0,316])\n",
    "\n",
    "    "
   ]
  },
  {
   "cell_type": "code",
   "execution_count": 7,
   "metadata": {
    "collapsed": false
   },
   "outputs": [
    {
     "data": {
      "text/plain": [
       "<matplotlib.text.Text at 0x908b270>"
      ]
     },
     "execution_count": 7,
     "metadata": {},
     "output_type": "execute_result"
    },
    {
     "data": {
      "image/png": "[encoded data removed]",
      "text/plain": [
       "<matplotlib.figure.Figure at 0x8e4d5b0>"
      ]
     },
     "metadata": {},
     "output_type": "display_data"
    }
   ],
   "source": [
    "### Convert eigenvalues to percentages of data set variance and plot top 20\n",
    "total=sum(eig_values)\n",
    "pltlist=list()\n",
    "for i in range(20):\n",
    "    pltlist.append(eig_values[i]/total*100)\n",
    "plt.figure(1,figsize=(5,7))\n",
    "xs=[x for x in range(20)]\n",
    "plt.title(\"Principal Components of 1200Kb Dataset\")\n",
    "plt.bar(xs,pltlist,width=0.8)\n",
    "plt.ylabel('Percentage of Variance', size=20)\n",
    "plt.xlabel('Component', size=20)"
   ]
  },
  {
   "cell_type": "code",
   "execution_count": 8,
   "metadata": {
    "collapsed": false
   },
   "outputs": [
    {
     "name": "stdout",
     "output_type": "stream",
     "text": [
      "(337, 8)\n",
      "(337, 14)\n",
      "(337, 22)\n"
     ]
    }
   ],
   "source": [
    "### Create 30%, 40% and 50% variance data sets using eigenvectors with largest eigenvalues.\n",
    "sum30=0\n",
    "sum40=0\n",
    "sum50=0\n",
    "weight=0\n",
    "for i in range(len(eig_values)):\n",
    "    weight=eig_values[i]/sum(eig_values)*100+weight\n",
    "    if weight<50:\n",
    "        sum50=i+1\n",
    "        if weight<40:\n",
    "            sum40=i+1\n",
    "            if weight<30:\n",
    "                sum30=i+1\n",
    "                \n",
    "norm30=dec.PCA(n_components=sum30+1).fit_transform(X)\n",
    "norm40=dec.PCA(n_components=sum40+1).fit_transform(X)\n",
    "norm50=dec.PCA(n_components=sum50+1).fit_transform(X)\n",
    "\n",
    "print(norm30.shape)\n",
    "print(norm40.shape)\n",
    "print(norm50.shape)"
   ]
  },
  {
   "cell_type": "code",
   "execution_count": 9,
   "metadata": {
    "collapsed": false
   },
   "outputs": [],
   "source": [
    "### Output 30%, 40% and 50% as csv files for use in other models.\n",
    "ef=pd.DataFrame(norm30,index=df['Entry'])\n",
    "ff=pd.DataFrame(norm40,index=df['Entry'])\n",
    "gf=pd.DataFrame(norm50,index=df['Entry'])\n",
    "ef.to_csv('./genotype_PCA_30p_1200Kb.csv')\n",
    "ff.to_csv('./genotype_PCA_40p_1200Kb.csv')\n",
    "gf.to_csv('./genotype_PCA_50p_1200Kb.csv')"
   ]
  },
  {
   "cell_type": "code",
   "execution_count": null,
   "metadata": {
    "collapsed": true
   },
   "outputs": [],
   "source": []
  }
 ],
 "metadata": {
  "kernelspec": {
   "display_name": "Python 2",
   "language": "python",
   "name": "python2"
  },
  "language_info": {
   "codemirror_mode": {
    "name": "ipython",
    "version": 2
   },
   "file_extension": ".py",
   "mimetype": "text/x-python",
   "name": "python",
   "nbconvert_exporter": "python",
   "pygments_lexer": "ipython2",
   "version": "2.7.12"
  }
 },
 "nbformat": 4,
 "nbformat_minor": 0
}
